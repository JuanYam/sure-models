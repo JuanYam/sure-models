{
 "cells": [
  {
   "cell_type": "markdown",
   "id": "e434a66d-0c6f-426c-823e-576259369d22",
   "metadata": {},
   "source": [
    "**Nota**: Instalar las siguientes bibliotecas antes de importarlas por primera vez"
   ]
  },
  {
   "cell_type": "code",
   "execution_count": null,
   "id": "83340a40",
   "metadata": {
    "tags": []
   },
   "outputs": [],
   "source": [
    "%%capture\n",
    "# Instalar las bibliotecas en DataCamp\n",
    "!pip install mlxtend python-dotenv pymongo pymongo[srv]"
   ]
  },
  {
   "cell_type": "code",
   "execution_count": 1,
   "id": "52452d36-02f0-4d26-83ac-2c9400a18a51",
   "metadata": {
    "scrolled": true
   },
   "outputs": [],
   "source": [
    "# Manipulación de datos\n",
    "import pandas as pd\n",
    "import numpy as np\n",
    "\n",
    "# Visualización de datos\n",
    "import matplotlib.pyplot as plt\n",
    "import seaborn as sns\n",
    "\n",
    "# Reglas de asociación\n",
    "from mlxtend.preprocessing import TransactionEncoder\n",
    "from mlxtend.frequent_patterns import apriori\n",
    "from mlxtend.frequent_patterns import association_rules\n",
    "\n",
    "# Modelos de aprendizaje automatico\n",
    "from sklearn.model_selection import train_test_split\n",
    "\n",
    "# Biblioteca para leer archivos\n",
    "import os\n",
    "\n",
    "# Biblioteca para leer .env\n",
    "from dotenv import load_dotenv\n",
    "\n",
    "# Importamos la biblioteca para MongoDB\n",
    "import pymongo\n",
    "from pymongo import MongoClient\n",
    "\n",
    "# Importamos bibliotecas de lectura de APIs\n",
    "import requests\n",
    "import json\n",
    "\n",
    "# Usamos el estilo de ggplot\n",
    "plt.style.use(\"ggplot\")\n",
    "\n",
    "# Evitar que pandas trunque la visualización\n",
    "# de las columnas\n",
    "pd.set_option(\"display.max_columns\", None)\n",
    "pd.set_option(\"display.max_rows\", None)"
   ]
  },
  {
   "cell_type": "markdown",
   "id": "bb32ff3d-210c-4fea-bfe0-f17579ce012a",
   "metadata": {},
   "source": [
    "# Entendimiento de los datos\n",
    "\n",
    "Los datos fueron entregados en archivos _.csv_ separados por año. Hasta el momento se cuenta con registros de calificaciones de los años 2016 al 2021. Lo primero que debemos hacer es explorarlos, limpiarlos y arreglarlos por separado antes de consolidarlos en un mismo marco de datos para su análisis."
   ]
  },
  {
   "cell_type": "code",
   "execution_count": null,
   "id": "9dc7971f-af2d-494a-b0ff-d01b2d19c8db",
   "metadata": {
    "scrolled": true
   },
   "outputs": [],
   "source": [
    "# Lista con los nombres de archivos\n",
    "archivos = [\"datos_2016.csv\", \"datos_2017.csv\", \"datos_2018.csv\", \"datos_2019.csv\", \"2020_2021.csv\"]\n",
    "# Leemos cada archivo y lo agregamos como dataframe al diccionario\n",
    "datos = {\n",
    "    \"2016\" : pd.read_csv(archivos[0]),\n",
    "    \"2017\" : pd.read_csv(archivos[1]),\n",
    "    \"2018\" : pd.read_csv(archivos[2]),\n",
    "    \"2019\" : pd.read_csv(archivos[3]),\n",
    "    \"2020_2021\" : pd.read_csv(archivos[4])\n",
    "}"
   ]
  },
  {
   "cell_type": "markdown",
   "id": "e475ffe5-fa03-4453-be90-1b59be361b13",
   "metadata": {},
   "source": [
    "Este paso es opcional, en caso que se requiera desanonimizar los datos, esta función permitirá lograrlo."
   ]
  },
  {
   "cell_type": "code",
   "execution_count": null,
   "id": "302d2043-faee-4c92-8928-8d1692655909",
   "metadata": {
    "scrolled": true
   },
   "outputs": [],
   "source": [
    "# Paso opcional por si se quieren desenmascarar matriculas\n",
    "def desenmascarar_matriculas(datos):\n",
    "    \"\"\"\n",
    "    Se realiza un desenmascaramiento de matriculas\n",
    "    \"\"\"\n",
    "    for key in datos.keys():\n",
    "        n_matricula = datos[key][\"n_matricula\"].values - 11122\n",
    "        datos[key][\"n_matricula\"] = n_matricula\n",
    "        \n",
    "    return(datos)\n",
    "    \n",
    "# Aplicamos el proceso de desenmascaramiento de datos\n",
    "datos = desenmascarar_matriculas(datos)"
   ]
  },
  {
   "cell_type": "markdown",
   "id": "c76696f9-657b-4fe0-95c9-95359057143e",
   "metadata": {
    "tags": []
   },
   "source": [
    "## Vista previa de los datos\n",
    "\n",
    "Para comenzar, se realiza una vista previa de los datos para cada año en el diccionario que contiene los dataframe.\n",
    "\n",
    "Lo primero que se puede observar es que los datos corresponden a registros de calificaciones individuales de estudiantes. Estos registros se repiten múltiples veces para cada estudiante y se pueden identificar los periodos escolares a traves de una columna `periodo`.\n",
    "\n",
    "Por otra parte, se puede observar que hay una columna con datos que parecen ser una enumeración, estos que se pueden descartar.\n",
    "\n",
    "Tenemos datos del ceneval, separados en cuatro principales temas, ceneval_global (observese el typo), ceneval_analitico, matemático, lengua y español. También se tiene datos de los módulos que contienen información de temas adicionales.\n",
    "\n",
    "Importante observar que los datos mantienen la misma estructura en los años 2016 al 2019."
   ]
  },
  {
   "cell_type": "code",
   "execution_count": null,
   "id": "aace1d2a-5e1e-41dc-8eb1-361829d3f287",
   "metadata": {
    "scrolled": true
   },
   "outputs": [],
   "source": [
    "# Mostramos una vista previa de los datos\n",
    "datos[\"2016\"].head()"
   ]
  },
  {
   "cell_type": "code",
   "execution_count": null,
   "id": "83014586",
   "metadata": {
    "scrolled": true
   },
   "outputs": [],
   "source": [
    "# Mostramos una vista previa de los datos\n",
    "datos[\"2017\"].head()"
   ]
  },
  {
   "cell_type": "code",
   "execution_count": null,
   "id": "7b6ad25b",
   "metadata": {
    "scrolled": true
   },
   "outputs": [],
   "source": [
    "# Mostramos una vista previa de los datos\n",
    "datos[\"2018\"].head()"
   ]
  },
  {
   "cell_type": "code",
   "execution_count": null,
   "id": "321c8e53",
   "metadata": {
    "scrolled": true
   },
   "outputs": [],
   "source": [
    "# Mostramos una vista previa de los datos\n",
    "datos[\"2019\"].head()"
   ]
  },
  {
   "cell_type": "markdown",
   "id": "912920a1",
   "metadata": {},
   "source": [
    "A diferencia de sus predecesores, este conjunto de datos pertenenciente a los años 2020 y 2021 (según su nombre lo indica), tiene menos variables (columnas). Obsérvese que este conjunto contiene una nueva columna con las horas que trabajaba el estudiante cuando ingresó a la Universidad.\n",
    "\n",
    "Las primeras dos columnas no aportan información, de hecho se tratan de simples enumeraciones que se pueden descartar. Nótese también que en este conjunto de datos muchas de las variables del ceneval han sido descartadas, así como los datos de los módulos.\n",
    "\n",
    "La columna `carrera` fue cambiada por su equivalente a `programa` asi que habrá que considerar estandarizar un nombre para este campo ya que se consolidarán todos los datos en un mismo dataframe."
   ]
  },
  {
   "cell_type": "code",
   "execution_count": null,
   "id": "ec9c43a0",
   "metadata": {
    "scrolled": true
   },
   "outputs": [],
   "source": [
    "# Mostramos una vista previa de los datos\n",
    "datos[\"2020_2021\"].head()"
   ]
  },
  {
   "cell_type": "markdown",
   "id": "550dc6eb-f5d6-4ed5-817b-25bb1463929f",
   "metadata": {
    "tags": []
   },
   "source": [
    "## Eliminación de variables\n",
    "\n",
    "Antes de explorar el comportamiento de cada variable, eliminamos algunas las variables que no proporcionan información relevante como las enumeraciones de los datos y las columnas con los módulos ya que esta información se resume en los resultados del ceneval."
   ]
  },
  {
   "cell_type": "code",
   "execution_count": null,
   "id": "c683eaa0",
   "metadata": {
    "scrolled": true
   },
   "outputs": [],
   "source": [
    "for key in datos.keys():\n",
    "    # Eliminamos la primera columna con indices\n",
    "    del datos[key][\"Unnamed: 0\"]\n",
    "\n",
    "    # Excluimos las variables que contienen información sobre los módulos\n",
    "    datos[key] = datos[key].loc[:, ~datos[key].columns.str.contains(\"modulo\")]\n",
    "\n",
    "    if key == \"2020_2021\":\n",
    "        # Si son los datos del 2020_2021 eliminamos columna `Column1`\n",
    "        del datos[key][\"Column1\"]"
   ]
  },
  {
   "cell_type": "markdown",
   "id": "13692cde-b753-4d0a-a8f0-505e3c27ac21",
   "metadata": {},
   "source": [
    "Nos aseguranos que estas hayan sido eliminadas dentro de cada dataset"
   ]
  },
  {
   "cell_type": "code",
   "execution_count": null,
   "id": "9ecb2a9e",
   "metadata": {
    "scrolled": true
   },
   "outputs": [],
   "source": [
    "# Revisamos que las columnas hayan sido eliminadas\n",
    "for key in datos.keys():\n",
    "    print(f\"=== año de los datos: {key}\")\n",
    "    print(datos[key].columns.values, end = \"\\n\\n\")"
   ]
  },
  {
   "cell_type": "markdown",
   "id": "1250f5f6-6156-42aa-a8c9-e649d7babdb6",
   "metadata": {},
   "source": [
    "Exploramos las variables individualmente y encontramos que hay algunas que no ofrecen información relevante para el análisis, estas variables son aquellas que apenas alcanzan un unico valor disponible, en este caso, los módulos. Por otra parte, los valores r_modulo`_n` tampoco ofrecen información relevante. Podemos descartar esas variables.\n",
    "\n",
    "**Notese el typo en la variable `ceveval_global`**, también se corrige esta parte, así como el nombre de programa a carrera (que es como aparecen en los demás dataset antes del 2020_2021)."
   ]
  },
  {
   "cell_type": "code",
   "execution_count": null,
   "id": "5163a1d3",
   "metadata": {
    "scrolled": true
   },
   "outputs": [],
   "source": [
    "# Corregimos los nombres de las variables ceneval_global y programa por carrera\n",
    "for key in datos.keys():\n",
    "    if key == \"2020_2021\":\n",
    "        # Corregimos el typo en la variable ceneval_global\n",
    "        datos[key].rename(columns = {\"ceveval_global\": \"ceneval_global\", \"programa\" : \"carrera\"}, inplace = True)\n",
    "    else: \n",
    "        # Corregimos el typo en la variable ceneval_global\n",
    "        datos[key].rename(columns = {\"ceveval_global\": \"ceneval_global\"}, inplace = True)\n",
    "    # Verificamos los cambios\n",
    "    print(f\"=== Datos del año: {key} ===\")\n",
    "    print(datos[key].columns.values, end = \"\\n\\n\")"
   ]
  },
  {
   "cell_type": "markdown",
   "id": "db2ebf36-90ea-4c2e-a3d6-def9d95b9784",
   "metadata": {},
   "source": [
    "## Mover la columna de la matricula al principio"
   ]
  },
  {
   "cell_type": "markdown",
   "id": "95a7ff1a-6612-42b1-b77e-bbe3601da8c9",
   "metadata": {},
   "source": [
    "Como hemos visto en la estructura de los datos anteriores, la columna que representa un identificador para el registro puede ser la matricula del estudiante. Esta columna se encuentra hasta el extremo derecho así que para facilitar la lectura podemos insertarla al principio."
   ]
  },
  {
   "cell_type": "code",
   "execution_count": null,
   "id": "09b478a6-b68d-4ee9-bc2f-bf9a3b01f028",
   "metadata": {
    "scrolled": true
   },
   "outputs": [],
   "source": [
    "# Reordenamos columnas para facilitar la lectura\n",
    "for key in datos.keys():\n",
    "    # Sacamos la columna de la matricula del dataframe actual\n",
    "    primera_columna = datos[key].pop(\"n_matricula\")\n",
    "    # Reinsertamos esa columna al principio del dataframe\n",
    "    datos[key].insert(0, \"n_matricula\", primera_columna)"
   ]
  },
  {
   "cell_type": "markdown",
   "id": "875e47b8-1851-4623-8a5f-c5ac9e8dda40",
   "metadata": {},
   "source": [
    "Una vez realizada este arreglo, podemos verificar que los cambios se hayan efectuado correctamente."
   ]
  },
  {
   "cell_type": "code",
   "execution_count": null,
   "id": "338d8f4d-71f4-4716-8b10-efd483e0fbbe",
   "metadata": {
    "scrolled": true
   },
   "outputs": [],
   "source": [
    "# Mostramos el orden de las columnas en cada dataframe\n",
    "for key in datos.keys():\n",
    "    print(f\"Columnas del año: {key}\")\n",
    "    print(datos[key].columns.values, end = \"\\n\\n\")"
   ]
  },
  {
   "cell_type": "markdown",
   "id": "4a22c49e-78ab-4ba6-aad8-0954f796edb1",
   "metadata": {
    "tags": []
   },
   "source": [
    "## Revisión de datos repetidos \n",
    "Con la finalidad de mantener nuestros datos libres de registros redundantes (en todas las columnas), eliminarémos estos casos para su posterior análisis estadístico. \n",
    "\n",
    "Cabe mencionar que la eliminación de repeticiones no necesariamente tiene que ser para todas las columnas (variables), también se podrían distiguir registros repetidos por subconjuntos de variables, que veremos más adelante en la segunda revisión.\n",
    "\n",
    "### Datos del 2016\n",
    "Hacemos una exploración en los datos para encontrar registros que puedan llegar a repetirse"
   ]
  },
  {
   "cell_type": "code",
   "execution_count": null,
   "id": "80fb848a-5470-4476-9632-b167fa7de7be",
   "metadata": {
    "scrolled": true
   },
   "outputs": [],
   "source": [
    "# Encontramos las filas con registros duplicados\n",
    "duplicados = datos[\"2016\"].duplicated(keep = False)"
   ]
  },
  {
   "cell_type": "markdown",
   "id": "cc37825c-dc25-403f-96bb-e8bb7a49dc0c",
   "metadata": {},
   "source": [
    "Podemos observar que existen registros duplicados en las calificaciones de los estudiantes. Será necesario realizar un procesamiento para eliminarlos."
   ]
  },
  {
   "cell_type": "code",
   "execution_count": null,
   "id": "eeb63fb4-11a9-4f09-b893-ad0a7768b54e",
   "metadata": {
    "scrolled": true,
    "tags": []
   },
   "outputs": [],
   "source": [
    "# Mostramos las filas con registros duplicados ordenados por matricula y asignatura\n",
    "# con la finalidad de identificar rápidamente los registros que se repiten\n",
    "datos[\"2016\"][duplicados].sort_values(by = [\"n_matricula\", \"asignatura\"], ascending = True)"
   ]
  },
  {
   "cell_type": "markdown",
   "id": "fd43344c-4934-4728-aa27-ad8d8f967900",
   "metadata": {},
   "source": [
    "Una opción es eliminar solo eliminar las copias extras de los registros que aparezcan con duplicados."
   ]
  },
  {
   "cell_type": "code",
   "execution_count": null,
   "id": "896ae04e-4b15-499e-8ee1-63d3a93eac10",
   "metadata": {
    "scrolled": true
   },
   "outputs": [],
   "source": [
    "# Eliminamos registros repetidos en el conjunto de datos (los registros que están de más)\n",
    "datos[\"2016\"].drop_duplicates(inplace = True)"
   ]
  },
  {
   "cell_type": "markdown",
   "id": "522fb99c-ae56-49b5-81d4-8815190b9670",
   "metadata": {},
   "source": [
    "Si revisamos de nuevo en busca de registros duplicados, ya no encontraremos ninguno para este año."
   ]
  },
  {
   "cell_type": "code",
   "execution_count": null,
   "id": "a6ebdceb-1c25-49c2-97d2-fdf78b05d50a",
   "metadata": {
    "scrolled": true
   },
   "outputs": [],
   "source": [
    "# Obtenemos los registros duplicados\n",
    "duplicados = datos[\"2016\"].duplicated(keep = False)\n",
    "# Mostramos los registros si existen\n",
    "datos[\"2016\"][duplicados].sort_values(by = [\"n_matricula\", \"asignatura\"])\n",
    "\n",
    "## Debería imprimir nada"
   ]
  },
  {
   "cell_type": "markdown",
   "id": "b3bcaf29-915c-4bf0-84a0-5415c394a20e",
   "metadata": {},
   "source": [
    "Realizamos el mismo trabajo en los demás datasets\n",
    "\n",
    "### Datos del 2017"
   ]
  },
  {
   "cell_type": "code",
   "execution_count": null,
   "id": "2b67ada0-aa23-46e3-9bc5-5aaa93ee411e",
   "metadata": {
    "scrolled": true,
    "tags": []
   },
   "outputs": [],
   "source": [
    "# Exploramos datos del 2017 en busca de registros duplicados\n",
    "duplicados = datos[\"2017\"].duplicated(keep = False)\n",
    "datos[\"2017\"][duplicados].sort_values(by = [\"n_matricula\", \"asignatura\"], ascending = True)"
   ]
  },
  {
   "cell_type": "code",
   "execution_count": null,
   "id": "e59f7bb4-4fd1-4726-8bb0-90cc2ea7c7fc",
   "metadata": {
    "scrolled": true
   },
   "outputs": [],
   "source": [
    "# Eliminamos registros repetidos en los datos del 2017\n",
    "datos[\"2017\"].drop_duplicates(inplace = True)\n",
    "\n",
    "# Verificamos que los datos repetidos se hayan eliminado correctamente\n",
    "duplicados = datos[\"2017\"].duplicated(keep = False)\n",
    "datos[\"2017\"][duplicados].sort_values(by = [\"n_matricula\", \"asignatura\"])"
   ]
  },
  {
   "cell_type": "markdown",
   "id": "448ae8ad-87be-4346-8205-88003cc6e40f",
   "metadata": {},
   "source": [
    "### Datos del 2018\n",
    "\n",
    "Nótese que al menos para esta primera exploración de registros duplicados, en el año 2018 no se han encontrado registros que tengan exactamente los mismos datos en todas su columnas."
   ]
  },
  {
   "cell_type": "code",
   "execution_count": null,
   "id": "fb7c2897-5314-4df8-98a4-49b304d2b0b2",
   "metadata": {
    "scrolled": true
   },
   "outputs": [],
   "source": [
    "# Exploramos en busqueda de registros duplicados\n",
    "duplicados = datos[\"2018\"].duplicated(keep = False)\n",
    "# Mostramos los registros que se duplican\n",
    "datos[\"2018\"][duplicados].sort_values(by = [\"n_matricula\", \"asignatura\"])"
   ]
  },
  {
   "cell_type": "markdown",
   "id": "8529ea8b-44c9-4fea-b1d0-a46f3743c050",
   "metadata": {},
   "source": [
    "### Datos del 2019\n",
    " \n",
    "Realizando la revisión en los datos del año 2019, tampoco se han encontrado registros duplicados."
   ]
  },
  {
   "cell_type": "code",
   "execution_count": null,
   "id": "dd70ee10-3ecd-4a4f-8525-9e0bda53c168",
   "metadata": {
    "scrolled": true
   },
   "outputs": [],
   "source": [
    "# Exploramos en busqueda de registros duplicados\n",
    "duplicados = datos[\"2019\"].duplicated(keep = False)\n",
    "# Mostramos los registros que se duplican\n",
    "datos[\"2019\"][duplicados].sort_values(by = [\"n_matricula\", \"asignatura\"])"
   ]
  },
  {
   "cell_type": "markdown",
   "id": "2ac8cca7-c1a7-4cc5-9eb0-bebadad2b912",
   "metadata": {},
   "source": [
    "### Datos del 2020_2021\n",
    " \n",
    "Realizando la revisión en los datos del año 2021, no se han encontrado registros duplicados de nueva cuenta."
   ]
  },
  {
   "cell_type": "code",
   "execution_count": null,
   "id": "447ce691-7fc1-4949-9603-e83a31405914",
   "metadata": {
    "scrolled": true
   },
   "outputs": [],
   "source": [
    "\n",
    "# Exploramos en busqueda de registros duplicados\n",
    "duplicados = datos[\"2020_2021\"].duplicated(keep = False)\n",
    "# Mostramos los registros que se duplican\n",
    "datos[\"2020_2021\"][duplicados].sort_values(by = [\"n_matricula\", \"asignatura\"])"
   ]
  },
  {
   "cell_type": "markdown",
   "id": "465cc17d-5ee4-44e3-92d3-e91d3cf1d3f8",
   "metadata": {},
   "source": [
    "## Revisión de duplicados considerando otras variables\n",
    "Para la segunda pasada, usaremos como referencia variables como: **n_matricula, periodo, clave y promedio final** ya que éstas nos permiten identificar un registro individual de calificación para un estudiante, en un periodo, y una asignatura. En caso de que se encuentren registros que se repitan en estas variables, podemos decir que se tratan del mismo registro de calificación, y por ende, hay que eliminarlos.\n",
    "\n",
    "### Datos del 2016\n",
    "Como se puede observar en la siguiente tabla, existen registros de estudiantes en donde se asignan calificaciones de asignaturas duplicadas pero que pertecen a una carrera diferente. Esto quiere decir que es hay problemas de consistencia en los datos que nos fueron proporcionados. Nótese que los registros representan a las calificaciones en las mismas asignaturas y tienen el mismo promedio, por lo que esto no se trata de un cambio de carrera por parte del estudiante."
   ]
  },
  {
   "cell_type": "code",
   "execution_count": null,
   "id": "65958297-2794-4d2e-a2d0-0b90434ee9b0",
   "metadata": {
    "scrolled": true
   },
   "outputs": [],
   "source": [
    "# Filtramos datos en conjunto original buscando duplicados que coincidan con tres variables: matricula, periodo y clave. Se ordenan los datos de forma descendente\n",
    "duplicados = datos[\"2016\"].duplicated(subset = [\"periodo\", \"clave\", \"n_matricula\", \"promediofinal\"], keep = False)\n",
    "# Mostramos los registros duplicados de forma ordenada\n",
    "datos[\"2016\"][duplicados].sort_values(by = [\"n_matricula\", \"periodo\", \"clave\", \"promediofinal\"], ascending = False)"
   ]
  },
  {
   "cell_type": "markdown",
   "id": "27c49f42-b0c7-4b43-8996-bac1503e51c0",
   "metadata": {},
   "source": [
    "Entonces tenemos que tomar una decisión ya que habrá que mantener un registro u otro porque se comparten los mismos datos pero cambia la carrera. En este caso (y aunque no es exactamente el más correcto), se ha decidido mantener el primer registro que presenta duplicado y se descartan los consecuentes. Esto puede traer un problema ya que por el momento no se tienen los recursos para validar que el estudiante pertenece a una carrera determinada u otra. "
   ]
  },
  {
   "cell_type": "code",
   "execution_count": null,
   "id": "243a8ff4-24cc-4706-ad7d-069a85e32057",
   "metadata": {
    "scrolled": true
   },
   "outputs": [],
   "source": [
    "# Eliminamos los registros duplicados a partir de los subconjuntos mencionados anteriormente\n",
    "# manteniendo el primer registro que encuentre\n",
    "datos[\"2016\"].drop_duplicates(subset = [\"periodo\", \"clave\", \"promediofinal\", \"n_matricula\"], keep = \"first\", inplace = True)\n",
    "\n",
    "# Revisamos que los registros se hayan eliminado correctamente\n",
    "## Esto debería imprimir nada\n",
    "\n",
    "# Filtramos datos en conjunto original buscando duplicados que coincidan con tres variables: matricula, periodo y clave. Se ordenan los datos de forma descendente\n",
    "duplicados = datos[\"2016\"].duplicated(subset = [\"periodo\", \"clave\", \"promediofinal\", \"n_matricula\"], keep = False)\n",
    "# Mostramos los registros duplicados de forma ordenada\n",
    "datos[\"2016\"][duplicados].sort_values(by = [\"n_matricula\", \"periodo\", \"clave\", \"promediofinal\"], ascending = False)"
   ]
  },
  {
   "cell_type": "markdown",
   "id": "7b8eb2d9-4b49-488f-afae-5746814e04b1",
   "metadata": {},
   "source": [
    "Hacemos el mismo procedimiento con el resto de los datos para lo años posteriores.\n",
    "\n",
    "### Datos del 2017"
   ]
  },
  {
   "cell_type": "code",
   "execution_count": null,
   "id": "fb4014d5-561f-4387-8772-6d0acf6db10e",
   "metadata": {
    "scrolled": true
   },
   "outputs": [],
   "source": [
    "# Filtramos datos en conjunto original buscando duplicados que coincidan con tres variables: matricula, periodo y clave. Se ordenan los datos de forma descendente\n",
    "duplicados = datos[\"2017\"].duplicated(subset = [\"periodo\", \"clave\", \"n_matricula\", \"promediofinal\"], keep = False)\n",
    "# Mostramos los registros duplicados de forma ordenada\n",
    "datos[\"2017\"][duplicados].sort_values(by = [\"n_matricula\", \"periodo\", \"clave\", \"promediofinal\"], ascending = False)"
   ]
  },
  {
   "cell_type": "markdown",
   "id": "0c1835a8-b909-4dd3-91a3-a9011972374b",
   "metadata": {},
   "source": [
    "Eliminamos los registros repetidos pero manteniendo la primera coincidencia"
   ]
  },
  {
   "cell_type": "code",
   "execution_count": null,
   "id": "7555ea0b-3318-4a6b-a278-1e949f416c93",
   "metadata": {
    "scrolled": true
   },
   "outputs": [],
   "source": [
    "# Eliminamos los registros duplicados a partir de los subconjuntos mencionados anteriormente\n",
    "# manteniendo el primer registro que encuentre\n",
    "datos[\"2017\"].drop_duplicates(subset = [\"periodo\", \"clave\", \"promediofinal\", \"n_matricula\"], keep = \"first\", inplace = True)\n",
    "\n",
    "# Revisamos que los registros se hayan eliminado correctamente\n",
    "## Esto debería imprimir nada\n",
    "\n",
    "# Filtramos datos en conjunto original buscando duplicados que coincidan con tres variables: matricula, periodo y clave. Se ordenan los datos de forma descendente\n",
    "duplicados = datos[\"2017\"].duplicated(subset = [\"periodo\", \"clave\", \"promediofinal\", \"n_matricula\"], keep = False)\n",
    "# Mostramos los registros duplicados de forma ordenada\n",
    "datos[\"2017\"][duplicados].sort_values(by = [\"n_matricula\", \"periodo\", \"clave\", \"promediofinal\"], ascending = False)"
   ]
  },
  {
   "cell_type": "markdown",
   "id": "47d434bd-5cfa-4086-9439-833144d9eaf5",
   "metadata": {},
   "source": [
    "### Datos del 2018\n",
    "\n",
    "Buscamos los regustros duplicados"
   ]
  },
  {
   "cell_type": "code",
   "execution_count": null,
   "id": "a548f5cb-1844-421e-ad11-867707f28109",
   "metadata": {
    "scrolled": true
   },
   "outputs": [],
   "source": [
    "\n",
    "# Filtramos datos en conjunto original buscando duplicados que coincidan con tres variables: matricula, periodo y clave. Se ordenan los datos de forma descendente\n",
    "duplicados = datos[\"2018\"].duplicated(subset = [\"periodo\", \"clave\", \"n_matricula\", \"promediofinal\"], keep = False)\n",
    "# Mostramos los registros duplicados de forma ordenada\n",
    "datos[\"2018\"][duplicados].sort_values(by = [\"n_matricula\", \"periodo\", \"clave\", \"promediofinal\"], ascending = False)"
   ]
  },
  {
   "cell_type": "markdown",
   "id": "b288332c-b24c-4b9d-8745-1931de4e8e10",
   "metadata": {},
   "source": [
    "Eliminamos los registros repetidos y mantenemos la primera coincidencia"
   ]
  },
  {
   "cell_type": "code",
   "execution_count": null,
   "id": "6b04692b-c955-48ff-a0ff-7b6cc6b68052",
   "metadata": {
    "scrolled": true
   },
   "outputs": [],
   "source": [
    "# Elimanamos los registros duplicados a partir de los subconjuntos mencionados anteriormente\n",
    "# manteniendo el primer registro que encuentre\n",
    "datos[\"2018\"].drop_duplicates(subset = [\"periodo\", \"clave\", \"promediofinal\", \"n_matricula\"], keep = \"first\", inplace = True)\n",
    "\n",
    "# Revisamos que los registros se hayan eliminado correctamente\n",
    "## Esto debería imprimir nada\n",
    "\n",
    "# Filtramos datos en conjunto original buscando duplicados que coincidan con tres variables: matricula, periodo y clave. Se ordenan los datos de forma descendente\n",
    "duplicados = datos[\"2018\"].duplicated(subset = [\"periodo\", \"clave\", \"promediofinal\", \"n_matricula\"], keep = False)\n",
    "# Mostramos los registros duplicados de forma ordenada\n",
    "datos[\"2018\"][duplicados].sort_values(by = [\"n_matricula\", \"periodo\", \"clave\", \"promediofinal\"], ascending = False)"
   ]
  },
  {
   "cell_type": "markdown",
   "id": "33ceeeb6-58ae-47a3-a42d-ac4ee56954aa",
   "metadata": {},
   "source": [
    "### Datos del 2019"
   ]
  },
  {
   "cell_type": "code",
   "execution_count": null,
   "id": "d25f6282-b468-4aff-9bce-4ca588f2e13b",
   "metadata": {
    "scrolled": true
   },
   "outputs": [],
   "source": [
    "# Filtramos datos en conjunto original buscando duplicados que coincidan con tres variables: matricula, periodo y clave. Se ordenan los datos de forma descendente\n",
    "duplicados = datos[\"2019\"].duplicated(subset = [\"periodo\", \"clave\", \"n_matricula\", \"promediofinal\"], keep = False)\n",
    "# Mostramos los registros duplicados de forma ordenada\n",
    "datos[\"2019\"][duplicados].sort_values(by = [\"n_matricula\", \"periodo\", \"clave\", \"promediofinal\"], ascending = False)"
   ]
  },
  {
   "cell_type": "markdown",
   "id": "dd39e8eb-4d06-4036-82f9-9755c643371d",
   "metadata": {},
   "source": [
    "Eliminamos los registros repetidos"
   ]
  },
  {
   "cell_type": "code",
   "execution_count": null,
   "id": "2ff259a8-85f1-4ba0-9873-c3b0a9907a54",
   "metadata": {
    "scrolled": true
   },
   "outputs": [],
   "source": [
    "# Eliminamos los registros duplicados a partir de los subconjuntos mencionados anteriormente\n",
    "# manteniendo el primer registro que encuentre\n",
    "datos[\"2019\"].drop_duplicates(subset = [\"periodo\", \"clave\", \"promediofinal\", \"n_matricula\"], keep = \"first\", inplace = True)\n",
    "\n",
    "# Revisamos que los registros se hayan eliminado correctamente\n",
    "## Esto debería imprimir nada\n",
    "\n",
    "# Filtramos datos en conjunto original buscando duplicados que coincidan con tres variables: matricula, periodo y clave. Se ordenan los datos de forma descendente\n",
    "duplicados = datos[\"2019\"].duplicated(subset = [\"periodo\", \"clave\", \"promediofinal\", \"n_matricula\"], keep = False)\n",
    "# Mostramos los registros duplicados de forma ordenada\n",
    "datos[\"2019\"][duplicados].sort_values(by = [\"n_matricula\", \"periodo\", \"clave\", \"promediofinal\"], ascending = False)"
   ]
  },
  {
   "cell_type": "markdown",
   "id": "affeff80-7377-41f6-b032-dcc6ded4c3b5",
   "metadata": {},
   "source": [
    "### Datos del 2020_2021\n",
    "\n",
    "En este caso particular, para la segunda pasada, no se han encontrado registros repetidos tomando como referencia el subconjunto de variables mencionadas al principio de esta sección."
   ]
  },
  {
   "cell_type": "code",
   "execution_count": null,
   "id": "38554b3c-7bea-4f46-ab9e-7f1654903596",
   "metadata": {
    "scrolled": true
   },
   "outputs": [],
   "source": [
    "# Filtramos datos en conjunto original buscando duplicados que coincidan con tres variables: matricula, periodo y clave. Se ordenan los datos de forma descendente\n",
    "duplicados = datos[\"2020_2021\"].duplicated(subset = [\"periodo\", \"clave\", \"n_matricula\", \"promediofinal\"], keep = False)\n",
    "# Mostramos los registros duplicados de forma ordenada\n",
    "datos[\"2020_2021\"][duplicados].sort_values(by = [\"n_matricula\", \"periodo\", \"clave\", \"promediofinal\"], ascending = False)"
   ]
  },
  {
   "cell_type": "markdown",
   "id": "90f22f63-ca7f-4bc2-aec0-d6f974583cf5",
   "metadata": {},
   "source": [
    "## Revisión de inconsistencias en los datos\n",
    "\n",
    "Aunque ya se ha realizado una exploración de los registros duplicados, es necesario investigar si los datos cumplen con el requisito de tener máximo 9 asignaturas cargadas en un mismo periodo (para los periodos de primavera y otoño). Para lograrlo, se pueden agrupar los datos por `periodo` y `n_matricula` con la finalidad de realizar un conteo y filtrar aquellas observaciones que no cumplan con esta condición. \n",
    "\n",
    "### Datos del 2016\n",
    "\n",
    "Con la finalidad de agilizar este proceso repetitivo para cada año, se ha realizado una función que permite contabilizar la cantidad de registros por periodo y matricula."
   ]
  },
  {
   "cell_type": "code",
   "execution_count": null,
   "id": "675c1c27-98c9-4f5c-9192-44e3469a94e7",
   "metadata": {
    "scrolled": true
   },
   "outputs": [],
   "source": [
    "def asignaturas_por_periodo(dataframe):\n",
    "    \"\"\"\n",
    "    Permite obtener la cantidad de asignaturas por\n",
    "    semestre agrupadas por periodo y matricula. \n",
    "    Devuelve el resultado como dataframe.\n",
    "    \"\"\"\n",
    "    # Agrupamos datos por periodo y matricula para obtener la cantidad de asignaturas por grupo\n",
    "    materias_por_semestre = dataframe.groupby([\"periodo\", \"n_matricula\"]).size()\n",
    "    # Obtenemos las materias por semestre en un dataframe ordenadas por cantidad de asignaturas y matriculas de mayor a menor\n",
    "    materias_por_semestre = materias_por_semestre.reset_index(name = \"n_asignaturas\").sort_values(by = [\"n_asignaturas\", \"n_matricula\"], ascending = False)\n",
    "    return(materias_por_semestre)"
   ]
  },
  {
   "cell_type": "markdown",
   "id": "a5dda186-5daa-4284-b9d3-08b06c460880",
   "metadata": {},
   "source": [
    "Ahora, solo se necesita enviar el dataframe del año. Los datos se muestran ordenados de mayor a menor cantidad de asignaturas por convenciencia."
   ]
  },
  {
   "cell_type": "code",
   "execution_count": null,
   "id": "c25b133b-8083-4a9c-af35-d92c5cdbecd3",
   "metadata": {
    "scrolled": true
   },
   "outputs": [],
   "source": [
    "\n",
    "# Calculamos las materias por semestre para este año\n",
    "materias_por_semestre = asignaturas_por_periodo(datos[\"2016\"])\n",
    "# Mostramos el dataframe\n",
    "materias_por_semestre"
   ]
  },
  {
   "cell_type": "markdown",
   "id": "a4c263e7-544d-4620-9e94-31fb76f74cec",
   "metadata": {},
   "source": [
    "Como pudimos notar en la salida anterior, existen registros de estudiantes que exceden el máximo permitido de asignaturas cargadas en un semestre. Es necesario \n",
    "explorar detalladamente estos registros que son los que están causando el problema para averiguar por qué suceden estos casos.\n",
    "\n",
    "Para agilizar el proceso de filtrado de registros por agrupamiento que no cumplen con la condición de 9 asignaturas máximas por semestre, usaremos la siguiente función que toma como parámetro el dataframe que se calculó anteriormente."
   ]
  },
  {
   "cell_type": "code",
   "execution_count": null,
   "id": "94a9912e-7321-4a40-8b7d-58bb7adf8d8e",
   "metadata": {
    "scrolled": true,
    "tags": []
   },
   "outputs": [],
   "source": [
    "def agrupaciones_inconsistentes(materias_por_semestre):\n",
    "    \"\"\"\n",
    "    Permite filtrar las agrupaciones que tienen más de 9\n",
    "    asignaturas por periodo y matricula.\n",
    "    \"\"\"\n",
    "    # Obtenemos los registros que contiene inconsistencias\n",
    "    inconsistencias = materias_por_semestre[materias_por_semestre[\"n_asignaturas\"] > 9]\n",
    "    # Cantidad de estudiantes que superan el limite permitido de asignaturas por semestre\n",
    "    print(\"Agrupaciones con exceso de asignaturas por periodo: \", len(inconsistencias))\n",
    "    # Ordenamos las inconsistencias de mayor a menor\n",
    "    inconsistencias = inconsistencias.sort_values(by = [\"n_matricula\", \"periodo\", \"n_asignaturas\"], ascending = False)\n",
    "    return(inconsistencias)"
   ]
  },
  {
   "cell_type": "markdown",
   "id": "ddf48f6e-6cc4-497d-8091-40a98703f912",
   "metadata": {},
   "source": [
    "Ahora aplicamos la función y obtenemos los registros que presentan esas inconsistencias."
   ]
  },
  {
   "cell_type": "code",
   "execution_count": null,
   "id": "08b5537f-60c5-4ae2-9de8-5fbd4f3d2556",
   "metadata": {
    "scrolled": true
   },
   "outputs": [],
   "source": [
    "# Calculamos las inconsistencias para el año actual\n",
    "inconsistencias = agrupaciones_inconsistentes(materias_por_semestre)\n",
    "# Mostramos esas inconsistencias\n",
    "inconsistencias"
   ]
  },
  {
   "cell_type": "markdown",
   "id": "9780a7c0-0f3e-4d0a-866c-739dacbaff57",
   "metadata": {},
   "source": [
    "Como pudimos ver anteriormente, tenemos 4 agrupaciones que nos arrojan 10 registros de asignaturas por semestre. En total se espera observar 40 registros (4 grupos de 10 asignaturas cada una). Filtramos los datos en el conjunto original por periodo y matrícula tomando como base los datos de las agrupaciones inconsistentes, para lograrlo ejecutamos un right join.\n",
    "\n",
    "De igual manera, podemos hacer esta operación de filtrado mediante una función para usarla en los demás años restantes."
   ]
  },
  {
   "cell_type": "code",
   "execution_count": null,
   "id": "2782e2d4-13b9-4a93-a1b5-04dca419edb3",
   "metadata": {
    "scrolled": true,
    "tags": []
   },
   "outputs": [],
   "source": [
    "def registros_inconsistentes(dataframe, inconsistencias):\n",
    "    \"\"\"\n",
    "    Permite obtener los registros que corresponden a las\n",
    "    agrupaciones inconsistentes mostradas anteriormente.\n",
    "    \"\"\"\n",
    "    # Mostramos los registros de las 4 agrupaciones anteriores\n",
    "    return(pd.merge(dataframe, inconsistencias[[\"periodo\", \"n_matricula\"]], on = [\"periodo\", \"n_matricula\"], how = \"right\").sort_values(by = [\"n_matricula\", \"clave\"], ascending = False))"
   ]
  },
  {
   "cell_type": "markdown",
   "id": "e31a1bc8-f263-479a-8607-c1545fe46d6e",
   "metadata": {},
   "source": [
    "En el siguiente dataframe podemos observar los registros de un estudiante y encontramos que en algunos casos aparecen dos materias repetidas dos veces en el mismo periodo pero con diferentes calificaciones finales, lo que indicaría que en el semestre se reprobó la asignatura y despues se presentó un examen extraordinario (que casualmente se registra bajo el mismo periodo). Hay que tener en cuenta que el estudiante siempre reprueba una vez, pero en el segundo registro se obtiene una calificación diferente, que puede ser aprobatoria o reprobatoria."
   ]
  },
  {
   "cell_type": "code",
   "execution_count": null,
   "id": "16d3fbd4-77a3-41a2-91a8-f7a71e32e723",
   "metadata": {
    "scrolled": true,
    "tags": []
   },
   "outputs": [],
   "source": [
    "# Filtramos los registros inconsistentes para el año y los mostramos\n",
    "registros_inconsistentes(datos[\"2016\"], inconsistencias)"
   ]
  },
  {
   "cell_type": "markdown",
   "id": "7f6ddb66-5f0e-4e93-a6db-64b2cdbbe98c",
   "metadata": {},
   "source": [
    "Ahora realizamos la misma operación para los datos de los años restantes."
   ]
  },
  {
   "cell_type": "markdown",
   "id": "845b1c80-0cdf-440b-80ab-853a962e05d9",
   "metadata": {},
   "source": [
    "### Datos del 2017\n",
    "\n",
    "Obtenemos el dataframe con la cantidad de asignaturas por periodo y matrícula."
   ]
  },
  {
   "cell_type": "code",
   "execution_count": null,
   "id": "38b93a85-b289-4acd-a309-9149baa5c074",
   "metadata": {
    "scrolled": true
   },
   "outputs": [],
   "source": [
    "# Calculamos las materias por semestre para este año\n",
    "materias_por_semestre = asignaturas_por_periodo(datos[\"2017\"])\n",
    "# Mostramos el dataframe\n",
    "materias_por_semestre"
   ]
  },
  {
   "cell_type": "markdown",
   "id": "42e095ff-4345-47aa-bc83-3c78de6c10dc",
   "metadata": {},
   "source": [
    "Filtramos las agrupaciones de la tabla anterior que presentan inconsistencias."
   ]
  },
  {
   "cell_type": "code",
   "execution_count": null,
   "id": "4ddd8ac2-ee83-43be-9749-b21f996c8123",
   "metadata": {
    "scrolled": true
   },
   "outputs": [],
   "source": [
    "# Calculamos las inconsistencias para el año actual\n",
    "inconsistencias = agrupaciones_inconsistentes(materias_por_semestre)\n",
    "# Mostramos esas inconsistencias\n",
    "inconsistencias"
   ]
  },
  {
   "cell_type": "markdown",
   "id": "4719fb3e-85de-4421-b8ed-debea8510057",
   "metadata": {},
   "source": [
    "Filtramos los registros en el dataset original que corresponden a las agrupaciones inconsistentes anteriores."
   ]
  },
  {
   "cell_type": "code",
   "execution_count": null,
   "id": "f7324fbd-f19e-474e-929f-fa90ef2fa448",
   "metadata": {
    "scrolled": true,
    "tags": []
   },
   "outputs": [],
   "source": [
    "\n",
    "# Filtramos los registros inconsistentes para el año y los mostramos\n",
    "registros_inconsistentes(datos[\"2017\"], inconsistencias)"
   ]
  },
  {
   "cell_type": "markdown",
   "id": "7405956c-f14d-4eb3-904f-6615aefa6953",
   "metadata": {},
   "source": [
    "### Datos del 2018"
   ]
  },
  {
   "cell_type": "code",
   "execution_count": null,
   "id": "a91bc3df-b1f5-4fec-88dd-01316f4bd858",
   "metadata": {
    "scrolled": true
   },
   "outputs": [],
   "source": [
    "# Calculamos las materias por semestre para este año\n",
    "materias_por_semestre = asignaturas_por_periodo(datos[\"2018\"])\n",
    "# Mostramos el dataframe\n",
    "materias_por_semestre"
   ]
  },
  {
   "cell_type": "code",
   "execution_count": null,
   "id": "44215050-94fb-48c0-bfe1-07c0a21c8241",
   "metadata": {
    "scrolled": true
   },
   "outputs": [],
   "source": [
    "# Calculamos las inconsistencias para el año actual\n",
    "inconsistencias = agrupaciones_inconsistentes(materias_por_semestre)\n",
    "# Mostramos esas inconsistencias\n",
    "inconsistencias"
   ]
  },
  {
   "cell_type": "code",
   "execution_count": null,
   "id": "c5aea146-f959-41e1-9cc1-fa4d2ef6fc98",
   "metadata": {
    "scrolled": true,
    "tags": []
   },
   "outputs": [],
   "source": [
    "# Filtramos los registros inconsistentes para el año y los mostramos\n",
    "registros_inconsistentes(datos[\"2018\"], inconsistencias)"
   ]
  },
  {
   "cell_type": "markdown",
   "id": "426da6a9-f953-478f-a845-a438a03d843b",
   "metadata": {
    "tags": []
   },
   "source": [
    "### Datos del 2019"
   ]
  },
  {
   "cell_type": "code",
   "execution_count": null,
   "id": "12e77a5a-e20d-4df1-8278-c43cb214ec8e",
   "metadata": {
    "scrolled": true
   },
   "outputs": [],
   "source": [
    "\n",
    "# Calculamos las materias por semestre para este año\n",
    "materias_por_semestre = asignaturas_por_periodo(datos[\"2019\"])\n",
    "# Mostramos el dataframe\n",
    "materias_por_semestre"
   ]
  },
  {
   "cell_type": "code",
   "execution_count": null,
   "id": "09d18171-37c5-4130-8342-7f4c99892de9",
   "metadata": {
    "scrolled": true
   },
   "outputs": [],
   "source": [
    "# Calculamos las inconsistencias para el año actual\n",
    "inconsistencias = agrupaciones_inconsistentes(materias_por_semestre)\n",
    "# Mostramos esas inconsistencias\n",
    "inconsistencias"
   ]
  },
  {
   "cell_type": "code",
   "execution_count": null,
   "id": "79b9d543-c6c6-481c-bdeb-d1ca65cea0de",
   "metadata": {
    "scrolled": true,
    "tags": []
   },
   "outputs": [],
   "source": [
    "# Filtramos los registros inconsistentes para el año y los mostramos\n",
    "registros_inconsistentes(datos[\"2019\"], inconsistencias)"
   ]
  },
  {
   "cell_type": "markdown",
   "id": "e7b7cee5-9f25-447c-b805-38f4a59068e8",
   "metadata": {},
   "source": [
    "### Datos del 2020_2021\n",
    "\n",
    "Nótese que para los datos de este año no se cuentan con registros que excedan el límite de 9 asignaturas por periodo."
   ]
  },
  {
   "cell_type": "code",
   "execution_count": null,
   "id": "2f869f24-e12f-4dbe-a2e2-e05495d4324a",
   "metadata": {
    "scrolled": true
   },
   "outputs": [],
   "source": [
    "# Calculamos las materias por semestre para este año\n",
    "materias_por_semestre = asignaturas_por_periodo(datos[\"2020_2021\"])\n",
    "# Mostramos el dataframe\n",
    "materias_por_semestre"
   ]
  },
  {
   "cell_type": "code",
   "execution_count": null,
   "id": "e17e6d3d-0276-4932-859c-1be651e0abb9",
   "metadata": {
    "scrolled": true
   },
   "outputs": [],
   "source": [
    "# Calculamos las inconsistencias para el año actual\n",
    "inconsistencias = agrupaciones_inconsistentes(materias_por_semestre)\n",
    "# Mostramos esas inconsistencias\n",
    "inconsistencias"
   ]
  },
  {
   "cell_type": "code",
   "execution_count": null,
   "id": "2e94b067-80e2-41e7-b532-aea3736d691a",
   "metadata": {
    "scrolled": true,
    "tags": []
   },
   "outputs": [],
   "source": [
    "# Filtramos los registros inconsistentes para el año y los mostramos\n",
    "registros_inconsistentes(datos[\"2020_2021\"], inconsistencias)"
   ]
  },
  {
   "cell_type": "markdown",
   "id": "1fb26074-2b88-4970-9489-e26323da0dbe",
   "metadata": {},
   "source": [
    "**Conclusión**: Los datos mostrados anteriormente no representan un problema, al contrario, presentan casos que sirven para identificar alumnos que han tomado exámenes extraordinarios, por lo tanto, no se necesita realizar alguna modificación. Esto sirve como un dato a tener en cuenta."
   ]
  },
  {
   "cell_type": "markdown",
   "id": "4a2a57df-0bb5-4710-96ee-86aacdfa1568",
   "metadata": {},
   "source": [
    "## Imputación de valores faltantes\n",
    "\n",
    "Para esta sección es necesario explorar los conjuntos de calificaciones en busca de valores nulos, habrá que procesarlos, la estrategia dependerá en gran medida del tipo de variable que estemos trabajando, por ejemplo, una estrategia sería usar alguna medida estadística como el promedio para las variables cualitativas como el promedio y puntajes del ceneval, este promedio sería obtenido a partir de las observaciones que sí se tienen e imputarlo (asignarlo) en los registros faltantes.\n",
    "\n",
    "Antes de realizar esta operación, vamos a consolidar los datos de todos los años en un mismo dataframe."
   ]
  },
  {
   "cell_type": "code",
   "execution_count": null,
   "id": "33d161d5-706d-4874-a17b-0cb424322a92",
   "metadata": {
    "scrolled": true
   },
   "outputs": [],
   "source": [
    "# Hacemos una copia de los datos originales\n",
    "# ya que sobreescribiré la variable datos por simplicidad\n",
    "copia = datos.copy()\n",
    "# Concatenamos los datos de todos los años en un mismo dataframe\n",
    "datos = pd.concat([copia[\"2016\"], copia[\"2017\"], copia[\"2018\"], copia[\"2019\"], copia[\"2020_2021\"]]).reset_index(drop = True)\n",
    "# Mostramos los registros\n",
    "datos"
   ]
  },
  {
   "cell_type": "markdown",
   "id": "9addd789-2b9b-4563-8b59-c9eadc9f64c9",
   "metadata": {},
   "source": [
    "Lo primero que se hace es una función que permita obtener una tabla con un conteo de los valores faltantes en los datos"
   ]
  },
  {
   "cell_type": "code",
   "execution_count": null,
   "id": "56391b3c-2ca2-4240-9581-eee132d8e741",
   "metadata": {
    "scrolled": true
   },
   "outputs": [],
   "source": [
    "def resumen_valores_faltantes(dataframe):\n",
    "    \"\"\"\n",
    "    Esta función permite obtener una tabla con un conteo de\n",
    "    los valores faltantes representados con NaN\n",
    "    en cada variable (columna)\n",
    "    \"\"\"\n",
    "    return(dataframe.isnull().sum().reset_index(name = \"valores_faltantes\"))"
   ]
  },
  {
   "cell_type": "markdown",
   "id": "962e27e5-b1af-4fbe-b796-6fdb878fb3fc",
   "metadata": {},
   "source": [
    "A continuación mostramos la tabla con los valores faltantes en cada variable en el dataframe.\n",
    "\n",
    "Observese que, por ejemplo, la variable `promediofinal` contiene 77 registros faltantes. Para el caso de las demás variables como el ceneval, se observa que, al menos para el `ceneval_global` se tienen 3630 registros faltantes, en comparación con las demás variables del ceneval que tienen en totalidad 13,083 faltantes. Otra observación importante es que la variable `hrs_trabaja` es la columna que más datos faltantes tiene, esto se debe a que en los demás dataframes no se tenía y habrá que asignarles a los estudiantes que apliquen sus debidas horas de trabajo. Para el caso de los faltantes en esta variable, simplemente se asignará `No trabajaba` como el valor predeterminado."
   ]
  },
  {
   "cell_type": "code",
   "execution_count": null,
   "id": "1308b785-fb84-4cc9-b877-59ae24b32954",
   "metadata": {
    "scrolled": true
   },
   "outputs": [],
   "source": [
    "\n",
    "# Valores faltantes de calificaciones del 2016\n",
    "resumen = resumen_valores_faltantes(datos)\n",
    "resumen"
   ]
  },
  {
   "cell_type": "markdown",
   "id": "2bdb7d9a-31c0-4d78-9004-37231ed1ebc5",
   "metadata": {},
   "source": [
    "El siguiente paso será determinar qué tipo de operación realizar al trabajar con estos valores faltantes de acuerdo al tipo de variable que se describe en esos datos.\n",
    "\n",
    "Inicialmente podemos obtener los nombres de las columnas que presentan faltantes y obtenemos la información de esas variables para obtener el tipo de dato con el que se está trabajando. \n",
    "\n",
    "Por ejemplo, véase que las variables `promediofinal`, `ceneval_global`, `ceneval_analitico`, `ceneval_matematico`, `ceneval_lengua` y `ceneval_esp` son numéricas (cuantitativas), mientras que  `hrs_trabaja` son categorías (cualitativa). "
   ]
  },
  {
   "cell_type": "code",
   "execution_count": null,
   "id": "234cda4f-ba05-4e62-9350-783fe037ff25",
   "metadata": {
    "scrolled": true
   },
   "outputs": [],
   "source": [
    "\n",
    "# Obtenemos las columnas con valores faltantes\n",
    "columnas_vf = resumen[resumen[\"valores_faltantes\"] > 0][\"index\"].values\n",
    "# Obtenemos la información de esas columnas\n",
    "datos[columnas_vf].info()"
   ]
  },
  {
   "cell_type": "code",
   "execution_count": null,
   "id": "52a58600-3896-4594-b185-f39955ebfa77",
   "metadata": {
    "scrolled": true
   },
   "outputs": [],
   "source": [
    "# Cantidad de valores unicos por variable\n",
    "datos[columnas_vf].nunique().reset_index(name = \"n_valores_unicos\")"
   ]
  },
  {
   "cell_type": "markdown",
   "id": "856433e9-771d-4e5f-9e21-0995a4eea1cc",
   "metadata": {},
   "source": [
    "Explorando detalladamente los valores unicos cada una de estas variables vamos a darnos cuenta que para todas las variables, excepto `hrs_trabaja` se tiene datos numéricos y `NaNs`, sin embargo para esta última, también tenemos valores faltantes simbolizados con  el valor `-`. "
   ]
  },
  {
   "cell_type": "code",
   "execution_count": null,
   "id": "8905e1fa-166b-4ae8-84d8-55cb3fcee867",
   "metadata": {
    "scrolled": true
   },
   "outputs": [],
   "source": [
    "for columna in columnas_vf:\n",
    "    print(f\"Columna: {columna}\")\n",
    "    print(datos[columna].unique(), end = \"\\n\\n\")"
   ]
  },
  {
   "cell_type": "markdown",
   "id": "d165811a-48a7-44ee-ba15-35fb1bac67eb",
   "metadata": {},
   "source": [
    "Para el caso de las calificaciones, calculamos este dato a partir del promedio tomando en consideración la clave de la asignatura, el profesor y el periodo. Esto es así por los siguientes motivos:\n",
    "\n",
    "- Como sabemos, tenemos datos antes de la pandemia y durante la pandemia, lo cual deja en claro que las calificaciones obtenidas en estos dos casos se presentaron en condiciones diferentes, lo cual supondría una ventaja o desventaja, que habría que examinar detenidamente más adelante.\n",
    "\n",
    "- Cada profesora o profesor tiene un diferente criterio de cómo evaluar a los estudiantes, lo cual significa que la dificultad de obtener buenas notas depende del docente y la asignatura que imparte."
   ]
  },
  {
   "cell_type": "code",
   "execution_count": null,
   "id": "fda6f87d-8431-4dcb-b4d9-823b396dc80b",
   "metadata": {
    "scrolled": true
   },
   "outputs": [],
   "source": [
    "# Obtenemos los valores faltantes en cada cada carrera, periodo, clave y docente\n",
    "agrupaciones_faltantes = datos[datos[\"promediofinal\"].isnull()].groupby([\"carrera\", \"periodo\", \"clave\", \"docente\"]).size().reset_index(name = \"calificaciones_faltantes\")\n",
    "agrupaciones_faltantes.sort_values(by = \"docente\")"
   ]
  },
  {
   "cell_type": "code",
   "execution_count": null,
   "id": "c1c8792b-3a01-4218-88bd-10193238549c",
   "metadata": {
    "scrolled": true
   },
   "outputs": [],
   "source": [
    "datos.merge(agrupaciones_faltantes.drop(\"calificaciones_faltantes\", axis = 1), on = [\"carrera\", \"periodo\", \"clave\", \"docente\"], how = \"left\").sort_values(\"docente\")"
   ]
  },
  {
   "cell_type": "markdown",
   "id": "f5111ce4-8479-4eea-9b9f-5404be5901ae",
   "metadata": {
    "tags": []
   },
   "source": [
    "## Estructura y comportamiento de los datos\n",
    "\n",
    "- Datos del **2016**: La siguiente información sobre los datos revela que a partir de la variable `ceneval_global` encontraremos valores nulos en los datos, exceptuando la última columna con las matrículas de los estudiantes. En total, contamos con `39,354` registros y `36` columnas con información útil (la primera corresponde al índice de la observación, asi que decidí no contarla). "
   ]
  },
  {
   "cell_type": "code",
   "execution_count": null,
   "id": "7f65d06b-9795-4145-9c67-0c6f0d3c2216",
   "metadata": {
    "scrolled": true,
    "tags": []
   },
   "outputs": [],
   "source": [
    "datos[\"2016\"].info()"
   ]
  },
  {
   "cell_type": "code",
   "execution_count": null,
   "id": "bedf14c9-98d5-4c65-8016-3af6a5c73db3",
   "metadata": {
    "scrolled": true
   },
   "outputs": [],
   "source": [
    "# Exploramos algunas medidas estadísticas para las \n",
    "# variables cuantitativas\n",
    "datos[\"2016\"].describe()"
   ]
  },
  {
   "cell_type": "code",
   "execution_count": null,
   "id": "8045c7fe-74bf-4cc3-968e-5fbbb67ab6a6",
   "metadata": {
    "scrolled": true
   },
   "outputs": [],
   "source": [
    "carreras = datos[\"2016\"][\"carrera\"].unique()\n",
    "carreras"
   ]
  },
  {
   "cell_type": "code",
   "execution_count": null,
   "id": "71c26f90-9b7d-4a1d-a481-8d0af38dc1a7",
   "metadata": {
    "scrolled": true
   },
   "outputs": [],
   "source": [
    "# Obtenemos el promedio de \n",
    "promedio_carreras = datos[\"2016\"][[\"carrera\", \"promediofinal\"]].groupby(\"carrera\").mean().reset_index()\n",
    "promedio_carreras.rename(columns = {\"promediofinal\" : \"calificacion_promedio\"}, inplace = True)"
   ]
  },
  {
   "cell_type": "code",
   "execution_count": null,
   "id": "9869cbf4-d6ba-47fa-a0f9-ec466ace6a23",
   "metadata": {
    "scrolled": true
   },
   "outputs": [],
   "source": [
    "promedio_carreras = promedio_carreras.sort_values(by = \"calificacion_promedio\", ascending = False)\n",
    "promedio_carreras"
   ]
  },
  {
   "cell_type": "markdown",
   "id": "cf40bcc8-ebf6-4448-b480-0006d7bbb5e2",
   "metadata": {},
   "source": [
    "Se puede calcular el promedio de las calificaciones finales en cada carrera"
   ]
  },
  {
   "cell_type": "code",
   "execution_count": null,
   "id": "7a201c9d-b4d5-48af-8765-d913af54e632",
   "metadata": {
    "scrolled": true
   },
   "outputs": [],
   "source": [
    "# Promedio de calificaciones por carrera de mayor a menor\n",
    "sns.barplot(data = promedio_carreras, y = \"carrera\", x = \"calificacion_promedio\")"
   ]
  },
  {
   "cell_type": "markdown",
   "id": "ace3ed84-1811-44c4-b089-b556f3a81bad",
   "metadata": {},
   "source": [
    "Los promedios finales se distribuyen de la siguiente manera para cada carrera. Observese los valores atípicos"
   ]
  },
  {
   "cell_type": "code",
   "execution_count": null,
   "id": "2b30f401-5a17-4551-8555-b08f3c81fee2",
   "metadata": {
    "scrolled": true
   },
   "outputs": [],
   "source": [
    "# Diagramas de cajas por carrera y promedio final\n",
    "sns.boxplot(data = datos[\"2016\"], x = \"promediofinal\", y = \"carrera\")"
   ]
  },
  {
   "cell_type": "markdown",
   "id": "f8d6f2b0-fa1c-42f7-992a-a1cb70cce778",
   "metadata": {},
   "source": [
    "- Datos del **2017**:"
   ]
  },
  {
   "cell_type": "code",
   "execution_count": null,
   "id": "c72471fd",
   "metadata": {
    "scrolled": true,
    "tags": []
   },
   "outputs": [],
   "source": [
    "datos[\"2017\"].info()"
   ]
  },
  {
   "cell_type": "code",
   "execution_count": null,
   "id": "1767a3a1-6efc-4e84-a43d-1f1814fac958",
   "metadata": {
    "scrolled": true
   },
   "outputs": [],
   "source": [
    "# Exploramos algunas medidas estadísticas para las \n",
    "# variables cuantitativas\n",
    "datos[\"2017\"].describe()"
   ]
  },
  {
   "cell_type": "markdown",
   "id": "a058a5ae-b6ad-42e7-b28a-ec190574803e",
   "metadata": {},
   "source": [
    "- Datos del **2018**:"
   ]
  },
  {
   "cell_type": "code",
   "execution_count": null,
   "id": "9746a251",
   "metadata": {
    "scrolled": true
   },
   "outputs": [],
   "source": [
    "datos[\"2018\"].info()"
   ]
  },
  {
   "cell_type": "code",
   "execution_count": null,
   "id": "a84bbfd4-5516-4ec6-b398-a2b6ade86aa3",
   "metadata": {
    "scrolled": true
   },
   "outputs": [],
   "source": [
    "# Exploramos algunas medidas estadísticas para las \n",
    "# variables cuantitativas\n",
    "datos[\"2018\"].describe()"
   ]
  },
  {
   "cell_type": "markdown",
   "id": "40f139bd-d4d5-4d1d-98a3-b3cb2372ad1f",
   "metadata": {},
   "source": [
    "- Datos del **2019**:"
   ]
  },
  {
   "cell_type": "code",
   "execution_count": null,
   "id": "bdbc63a3",
   "metadata": {
    "scrolled": true
   },
   "outputs": [],
   "source": [
    "datos[\"2019\"].info()"
   ]
  },
  {
   "cell_type": "code",
   "execution_count": null,
   "id": "38cb8a97-de02-4b43-a9da-d78452f2568b",
   "metadata": {
    "scrolled": true
   },
   "outputs": [],
   "source": [
    "# Exploramos algunas medidas estadísticas para las \n",
    "# variables cuantitativas\n",
    "datos[\"2019\"].describe()"
   ]
  },
  {
   "cell_type": "markdown",
   "id": "e22ad870-3f9b-4d76-b189-9a0f2d42eb19",
   "metadata": {},
   "source": [
    "- Datos del **2020 - 2021**: La siguiente información de este conjunto de datos demuestra que tenemos menos variables para analizar. A diferencia de los demas datasets, este descarta las variables relacionadas con las calificaciones del lengua, español, matemáticas y lectura. Asímismo, se integra una nueva columna nueva con información de las horas que un estudiante que un estudiante trabaja (si es el caso)."
   ]
  },
  {
   "cell_type": "code",
   "execution_count": null,
   "id": "078a1439",
   "metadata": {
    "scrolled": true
   },
   "outputs": [],
   "source": [
    "datos[\"2020_2021\"].info()"
   ]
  },
  {
   "cell_type": "code",
   "execution_count": null,
   "id": "0c65ea36-f718-46d1-814d-21e81844a160",
   "metadata": {
    "scrolled": true
   },
   "outputs": [],
   "source": [
    "# Exploramos algunas medidas estadísticas para las \n",
    "# variables cuantitativas\n",
    "datos[\"2020_2021\"].describe()"
   ]
  },
  {
   "cell_type": "markdown",
   "id": "e2eff541-6a2b-4732-8cd7-29b8e0932281",
   "metadata": {},
   "source": [
    "## Exploración de los datos del ceneval"
   ]
  },
  {
   "cell_type": "markdown",
   "id": "7ddd18f0-27ee-473b-be3f-6bf303a8a523",
   "metadata": {},
   "source": [
    "Podemos analizar visualmente el comportamiento de los resultados del examen ceneval para su cuatro categorias: `ceneval_global`, `ceneval_analitico`, `ceneval_matematico`, `ceneval_lengua`, `ceneval_español`. "
   ]
  },
  {
   "cell_type": "code",
   "execution_count": null,
   "id": "a5fd3e4e-c895-42b1-b24d-d7e250c7f425",
   "metadata": {
    "scrolled": true
   },
   "outputs": [],
   "source": [
    "# Filtramos los datos que corresponden a resultados del ceneval en todas sus modalidades\n",
    "# usando prefijos\n",
    "datos_ceneval = datos[\"2016\"].loc[:, datos[\"2016\"].columns.str.startswith(\"ceneval\")]\n",
    "datos_ceneval"
   ]
  },
  {
   "cell_type": "code",
   "execution_count": null,
   "id": "68b5a752-df03-480c-8349-dd797b7f32af",
   "metadata": {
    "scrolled": true
   },
   "outputs": [],
   "source": [
    "# Imprimimos un histograma con los datos del ceneval_global\n",
    "plt.hist(datos_ceneval[\"ceneval_global\"], bins = 15)\n",
    "plt.title(\"Puntaje en ceneval global\")\n",
    "plt.ylabel(\"Puntos\")\n",
    "plt.show()"
   ]
  },
  {
   "cell_type": "code",
   "execution_count": null,
   "id": "09a25622-6c47-4a0d-9472-92360bd4b283",
   "metadata": {
    "scrolled": true,
    "tags": []
   },
   "outputs": [],
   "source": [
    "# Creamos un subplot\n",
    "fig, axes = plt.subplots(5, figsize = (6, 25))\n",
    "# Iteramos sobre cada variable del ceneval\n",
    "for index, columna in enumerate(datos_ceneval.columns):\n",
    "    # Asignamos un nuevo histograma al subplot\n",
    "    axes[index].set_title(f\"{columna}\")\n",
    "    axes[index].hist(datos_ceneval[columna], bins = 20)\n",
    "\n",
    "# Mostramos el plot final\n",
    "plt.show()"
   ]
  },
  {
   "cell_type": "markdown",
   "id": "f9d2d58a-fee4-44a9-8006-12208004b8c1",
   "metadata": {
    "tags": []
   },
   "source": [
    "# Preparación de los datos\n",
    "\n",
    "En esta seccion se crearán algunos conjuntos de variables que posteriormente usaremos como predictores para la construcción de los modelos de machine learning:\n",
    "\n",
    "**Variables escolares**: \n",
    "\n",
    "- carrera (IDeIO, II, ILCS, IA, ...)\n",
    "- promedio_general ()\n",
    "- cantidad_materias\n",
    "- cantidad_materias_superior\n",
    "- periodo_ingreso\n",
    "- estatus\n",
    "- servicio\n",
    "- practicante\n",
    "- trabaja\n",
    "- tasa_aprobación_carrera\n",
    "- porcentaje_condicionados\n",
    "- materias_tercera_vez\n",
    "- materias_recursando\n",
    "- permanencia_promedio_carrera\n",
    "- supera_permanencia_promedio\n",
    "- departamento_carrera\n",
    "\n",
    "**Variables socioeconómicas**:\n",
    "\n",
    "1. escuela_procedencia\n",
    "2. trabaja"
   ]
  },
  {
   "cell_type": "markdown",
   "id": "dcc7333a-0297-4a4c-89d5-77add626f422",
   "metadata": {},
   "source": [
    "OBSERVACIÓN: Continuando con la exploración de los datos, los siguientes detalles que existen dentro de nuestros datos, son lo siguientes:\n",
    "\n",
    "847 valores faltantes en 2016 de calificaciones en los cenevales\n",
    "\n",
    "852 valores faltantes en 2017 de calificaciones en los cenevales y 1 valor faltante en promedio final\n",
    "\n",
    "746 valores faltantes en 2018 de calificaciones en los cenevales y 16 valores faltante en promedio final\n",
    "\n",
    "691 valores faltantes en 2019 de calificaciones en los cenevales\n",
    "\n",
    "494 valores faltantes en 2020_2021 de calificaciones en los cenevales y 60 valores faltantes en promedio final\n",
    "\n"
   ]
  },
  {
   "cell_type": "code",
   "execution_count": null,
   "id": "92384d71-f780-425f-87ad-8f5dd95c973b",
   "metadata": {
    "scrolled": true
   },
   "outputs": [],
   "source": [
    "datos[\"2016\"].isnull().sum()"
   ]
  },
  {
   "cell_type": "markdown",
   "id": "1b27e4d8-e694-4d1c-b13e-abedf67d7391",
   "metadata": {},
   "source": [
    "La solución a esto será lo siguientes:\n",
    "\n",
    "Para los valores faltantes(NaN) en promedio final, la solución será sacar el promedio que todos los estudiantes sacaron en esa asignatura, una vez hecho esto se le asignará el resultado a los registros faltantes.\n",
    "\n",
    "Para los valores faltantes(NaN) en Los examanes de ceneval, la solución será sacar el promedio de todos los cenevales y asignar este resultado a los valores vacios."
   ]
  },
  {
   "cell_type": "code",
   "execution_count": null,
   "id": "dc2e4ea8-268c-41d0-9fcb-7b4b8484af63",
   "metadata": {
    "scrolled": true
   },
   "outputs": [],
   "source": [
    "#Función para asignar las calificaciones de los cenevales a los registros NAN\n",
    "def promedio_cenevales(dataframe):\n",
    "  #Calculando promedio de los cenevales\n",
    "  prom_global = dataframe[\"ceneval_global\"].mean()\n",
    "  prom_analitico = dataframe[\"ceneval_analitico\"].mean()\n",
    "  prom_mat = dataframe[\"ceneval_matematico\"].mean()\n",
    "  prom_lengua = dataframe[\"ceneval_lengua\"].mean()\n",
    "  prom_esp = dataframe[\"ceneval_esp\"].mean()\n",
    "\n",
    "  #Asignando el promedio a los registros\n",
    "  dataframe.loc[dataframe[\"ceneval_global\"].isnull(),\"ceneval_global\"]= prom_global\n",
    "  dataframe.loc[dataframe[\"ceneval_analitico\"].isnull(),\"ceneval_analitico\"]= prom_analitico\n",
    "  dataframe.loc[dataframe[\"ceneval_matematico\"].isnull(),\"ceneval_matematico\"]= prom_mat\n",
    "  dataframe.loc[dataframe[\"ceneval_lengua\"].isnull(),\"ceneval_lengua\"]= prom_lengua\n",
    "  dataframe.loc[dataframe[\"ceneval_esp\"].isnull(),\"ceneval_esp\"]= prom_esp\n",
    "  \n",
    "  return(dataframe)"
   ]
  },
  {
   "cell_type": "markdown",
   "id": "423a2668-9fc9-4ffa-a0ca-971f1dffdc0e",
   "metadata": {},
   "source": [
    "AÑO 2016"
   ]
  },
  {
   "cell_type": "code",
   "execution_count": null,
   "id": "65a89911-4ab2-4f6e-8d9a-cd54dc662851",
   "metadata": {
    "scrolled": true
   },
   "outputs": [],
   "source": [
    "promedio_cenevales(datos[\"2016\"])"
   ]
  },
  {
   "cell_type": "code",
   "execution_count": null,
   "id": "83eba02f-7051-4d07-9b8c-a71cba5bb1b7",
   "metadata": {
    "scrolled": true
   },
   "outputs": [],
   "source": [
    "#VERIFICANDO NAN EN LOS CENEVALES DEL AÑO 2016\n",
    "#SE OBSERVA QUE YA NO HAY VALORES NAN EN ESTE DATAFRAME\n",
    "datos[\"2016\"].isnull().sum()"
   ]
  },
  {
   "cell_type": "markdown",
   "id": "932b837b-c804-496b-949c-2d3ad71fc76d",
   "metadata": {},
   "source": [
    "AÑO 2017"
   ]
  },
  {
   "cell_type": "code",
   "execution_count": null,
   "id": "6963e7aa-1cc2-4d12-8cdf-d0dfe6df161b",
   "metadata": {
    "scrolled": true
   },
   "outputs": [],
   "source": [
    "promedio_cenevales(datos[\"2017\"])"
   ]
  },
  {
   "cell_type": "code",
   "execution_count": null,
   "id": "c55193ee-bf7a-4177-8c5e-c7ef95acb084",
   "metadata": {
    "scrolled": true
   },
   "outputs": [],
   "source": [
    "#VERIFICANDO NAN EN LOS CENEVALES DEL AÑO 2016\n",
    "#SE OBSERVA QUE YA NO HAY VALORES NAN EN ESTE DATAFRAME\n",
    "datos[\"2017\"].isnull().sum()"
   ]
  },
  {
   "cell_type": "code",
   "execution_count": null,
   "id": "0016c500-b7f0-40ca-8e28-46b6e11f3b93",
   "metadata": {
    "scrolled": true
   },
   "outputs": [],
   "source": [
    "#CONTINUANDO CON LOS DEMÁS DATAFRAME\n",
    "promedio_cenevales(datos[\"2018\"])\n",
    "promedio_cenevales(datos[\"2019\"])\n",
    "#promedio_cenevales(datos[\"2020_2021\"])"
   ]
  },
  {
   "cell_type": "code",
   "execution_count": null,
   "id": "dd26c71e-7c32-469e-8b9e-e2146f520e14",
   "metadata": {
    "scrolled": true
   },
   "outputs": [],
   "source": [
    "datos[\"2018\"].isnull().sum()"
   ]
  },
  {
   "cell_type": "code",
   "execution_count": null,
   "id": "78830ccc-f0a9-4304-8e2e-d72e6251fd8a",
   "metadata": {
    "scrolled": true
   },
   "outputs": [],
   "source": [
    "datos[\"2019\"].isnull().sum()"
   ]
  },
  {
   "cell_type": "markdown",
   "id": "58c3b144-fa0b-4632-a6fd-1baca64bc657",
   "metadata": {},
   "source": [
    "PARA LOS VALORES NAN QUE ESTÁN EN 2020_2021 SE HARÁ EL MISMO PROCESO PERO SIN USAR LA FUNCIÓN YA QUE ESTE DATAFRAME SÓLO CONTIENE CENEVAL_GLOBAL"
   ]
  },
  {
   "cell_type": "code",
   "execution_count": null,
   "id": "9b7f4031-7720-4b0a-8653-183c408a5df0",
   "metadata": {
    "scrolled": true
   },
   "outputs": [],
   "source": [
    "#PRIMERO VEAMOS LOS REGISTROS NAN QUE CONTIENE\n",
    "datos[\"2020_2021\"].isnull().sum()"
   ]
  },
  {
   "cell_type": "code",
   "execution_count": null,
   "id": "7ad36d25-0823-45bc-8ecb-19e669fd8e0f",
   "metadata": {
    "scrolled": true
   },
   "outputs": [],
   "source": [
    "#HACEMOS EL PROCESOS DE INSERTAR PROMEDIO\n",
    "prom_global = datos[\"2020_2021\"][\"ceneval_global\"].mean()\n",
    "datos[\"2020_2021\"].loc[datos[\"2020_2021\"][\"ceneval_global\"].isnull(),\"ceneval_global\"]= prom_global"
   ]
  },
  {
   "cell_type": "code",
   "execution_count": null,
   "id": "72d620f1-8cc9-49df-8692-5b8d819c0530",
   "metadata": {
    "scrolled": true
   },
   "outputs": [],
   "source": [
    "#REVISAMOS NUEVAMENTE, PARA CONFIRMAR QUE YA NO ESTÉN ESTOS VALORES\n",
    "datos[\"2020_2021\"].isnull().sum()"
   ]
  },
  {
   "cell_type": "markdown",
   "id": "139513bc-edb1-4625-a136-ecd570c049ce",
   "metadata": {},
   "source": [
    "### Consolidamos la base"
   ]
  },
  {
   "cell_type": "code",
   "execution_count": null,
   "id": "75f98ff8-a024-4cea-9142-a1508f045848",
   "metadata": {
    "scrolled": true
   },
   "outputs": [],
   "source": [
    "D1 = pd.DataFrame.from_dict(datos[\"2020_2021\"])\n",
    "D2 = pd.DataFrame.from_dict(datos[\"datos_2016\"])\n",
    "D3 = pd.DataFrame.from_dict(datos[\"datos_2017\"])\n",
    "D4 = pd.DataFrame.from_dict(datos[\"datos_2018\"])\n",
    "D1 = pd.DataFrame.from_dict(datos[\"datos_2019\"])"
   ]
  },
  {
   "cell_type": "code",
   "execution_count": null,
   "id": "e377a28c-3a2c-4003-a0b7-ef5fe8914319",
   "metadata": {
    "scrolled": true
   },
   "outputs": [],
   "source": [
    "datos = pd.concat([D1,D2,D3,D4,D5])"
   ]
  },
  {
   "cell_type": "markdown",
   "id": "05a38868-feaa-4012-b49d-1c31e47a21e4",
   "metadata": {},
   "source": [
    "# Modelado de datos\n",
    "## Regresión logística"
   ]
  },
  {
   "cell_type": "code",
   "execution_count": null,
   "id": "f9f083ec-e342-4510-8c9c-32b496c97938",
   "metadata": {
    "scrolled": true
   },
   "outputs": [],
   "source": [
    "# Importamos las bibliotecas\n",
    "# Para crear modelos de regresión logistica\n",
    "from sklearn.linear_model import LogisticRegression\n",
    "# Para separar los datos de entrenamiento y de prueba\n",
    "from sklearn.model_selection import train_test_split\n",
    "\n",
    "# Creamos subconjuntos de entrenamiento y prueba de forma estratificada\n",
    "x_train, x_test, y_train, y_test = train_test_split(X, y, test_size = 0.3, stratify = y)\n",
    "\n",
    "# Creamos una instancia para un modelo de regresion logistica\n",
    "lr_model = LogisticRegression()\n",
    "# Entrenamos un modelo con datos de entrenamiento\n",
    "lr_model.fit(x_train, y_train)\n",
    "\n",
    "# Calcular la precisión del modelo\n",
    "accuracy = lr.score(x_test, y_test)"
   ]
  },
  {
   "cell_type": "markdown",
   "id": "135f398f-5d87-430e-a6a4-26880cc09d7f",
   "metadata": {},
   "source": [
    "## KNearest Neighbors"
   ]
  },
  {
   "cell_type": "code",
   "execution_count": null,
   "id": "717529e4-3eea-43ed-a5d7-59ec146fba1c",
   "metadata": {
    "scrolled": true
   },
   "outputs": [],
   "source": [
    "# Importamos las bibliotecas\n",
    "# Para crear modelos de KNN\n",
    "from sklearn.neighbors import KNeighborsClassifier\n",
    "# Para separar los datos de entrenamiento y de prueba\n",
    "from sklearn.model_selection import train_test_split\n",
    "\n",
    "# Creamos subconjuntos de entrenamiento y prueba de forma estratificada\n",
    "x_train, x_test, y_train, y_test = train_test_split(data, test_size = 0.3, stratify = y)\n",
    "\n",
    "# Creamos una instancia para un modelo de vecinos más cercanos\n",
    "knn = KNeighborsClassifier(n_neighbors = 3)\n",
    "# Entrenamos un modelo con los datos de entrenamiento\n",
    "knn.fit(x_train, y_train)\n",
    "\n",
    "# Calcular la precisión del modelo\n",
    "accuracy = knn.score(x_test, y_test)"
   ]
  },
  {
   "cell_type": "markdown",
   "id": "01b89ec2-b117-4108-bae0-f8f7301c3afc",
   "metadata": {},
   "source": [
    "Calcular la precisión del modelo a partir de la variación de la cantidad de vecinos"
   ]
  },
  {
   "cell_type": "code",
   "execution_count": null,
   "id": "59d6b386-fdbe-422b-ae49-fe3c92264c85",
   "metadata": {
    "scrolled": true
   },
   "outputs": [],
   "source": [
    "# Creamos un diccionario vacio\n",
    "training_accuracies = dict()\n",
    "testing_accuracies = dict()\n",
    "# Creamos un arreglo de 0 - 25\n",
    "neighbors = np.arange(1, 26)\n",
    "\n",
    "# Para cada cantidad de vecinos en arreglo\n",
    "for n in neighbors:\n",
    "    # Ajustamos el hiperparametro de numero de vecinos\n",
    "    knn = KNeighborsClassifier(n_neighbors = n)\n",
    "    # Entrenamos el modelo de knn\n",
    "    knn.fit(x_train, y_train)\n",
    "        \n",
    "    # Medir precisión para cantidad de vecinos actual\n",
    "    training_accuracies[n] = knn.score(x_train, y_train)\n",
    "    testing_accuracies[n] = knn.score(x_test, y_test)\n",
    "    \n",
    "# Creamos una gráfica con los valores de precisión y número de vecinos\n",
    "plt.plot(neighbors, accuracies.values(), label = \"Precisión\")\n",
    "plt.legend()\n",
    "plt.xlabel(\"Número de vecinos\")\n",
    "plt.ylabel(\"Precisión del modelo\")\n",
    "plt.show()"
   ]
  },
  {
   "cell_type": "markdown",
   "id": "76ee9982",
   "metadata": {},
   "source": [
    "## Regresión lineal (en caso de usos futuros)"
   ]
  },
  {
   "cell_type": "code",
   "execution_count": null,
   "id": "50b0f0f7",
   "metadata": {
    "scrolled": true
   },
   "outputs": [],
   "source": [
    "from sklearn.linear_model import LinearRegression\n",
    "from sklearn.model_selection import train_test_split\n",
    "\n",
    "x_train, x_test, y_train, y_test = train_test_split(data, test_size = 0.3, stratify = y)\n",
    "linear_reg = LinearRegression()"
   ]
  },
  {
   "cell_type": "markdown",
   "id": "82041e1a-f61d-432d-9d44-b1cb42a952f4",
   "metadata": {},
   "source": [
    "## Exportar modelos en archivos"
   ]
  },
  {
   "cell_type": "code",
   "execution_count": null,
   "id": "ee163fa9-333c-4b29-a15d-925b34a77a48",
   "metadata": {
    "scrolled": true
   },
   "outputs": [],
   "source": [
    "# Modulo para guardar objetos en Python\n",
    "import pickle"
   ]
  },
  {
   "cell_type": "markdown",
   "id": "1d1ac53f-7ee5-4a7b-8dd1-db51d3b5319a",
   "metadata": {},
   "source": [
    "Para almacenar los modelos para usos futuros, usaremos la biblioteca pickle con la finalidad de serializar el objeto (el modelo), almacenarlo en un archivo, y posteriormente, deserializarlo en un entorno de producción de Python."
   ]
  },
  {
   "cell_type": "code",
   "execution_count": null,
   "id": "a73cf304-469f-408c-8fbd-652506846e61",
   "metadata": {
    "scrolled": true
   },
   "outputs": [],
   "source": [
    "# Guardamos el modelo de regresión logística en un archivo en disco\n",
    "filename = \"logistic_regression_model.sav\"\n",
    "pickle.dump(lr_model, open(filename, \"wb\"))"
   ]
  },
  {
   "cell_type": "code",
   "execution_count": null,
   "id": "dc1a8dd1-e7da-4cdd-a1a6-d9a402c50c1c",
   "metadata": {
    "scrolled": true
   },
   "outputs": [],
   "source": [
    "# Cargamos el modelo a memoria desde el disco\n",
    "loaded_model = pickle.load(open(filename, \"rb\"))\n",
    "result = loaded_model.score(x_test, y_test)\n",
    "print(result)"
   ]
  },
  {
   "cell_type": "markdown",
   "id": "715a358e-6f46-4147-81fe-34ffc921eed5",
   "metadata": {},
   "source": [
    "# Evaluación de modelos"
   ]
  }
 ],
 "metadata": {
  "editor": "DataCamp Workspace",
  "kernelspec": {
   "display_name": "Python 3 (ipykernel)",
   "language": "python",
   "name": "python3"
  },
  "language_info": {
   "codemirror_mode": {
    "name": "ipython",
    "version": 3
   },
   "file_extension": ".py",
   "mimetype": "text/x-python",
   "name": "python",
   "nbconvert_exporter": "python",
   "pygments_lexer": "ipython3",
   "version": "3.10.5"
  },
  "toc-autonumbering": true,
  "toc-showcode": false,
  "toc-showmarkdowntxt": false,
  "vscode": {
   "interpreter": {
    "hash": "a93a32689d98fb423083dcc36955878f65c14b61b6ce2104170406059b1815ff"
   }
  }
 },
 "nbformat": 4,
 "nbformat_minor": 5
}
